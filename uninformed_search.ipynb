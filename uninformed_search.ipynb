{
 "cells": [
  {
   "cell_type": "markdown",
   "id": "9f4d69fb",
   "metadata": {},
   "source": [
    "# Depth First Search"
   ]
  },
  {
   "cell_type": "code",
   "execution_count": 3,
   "id": "59040fe7",
   "metadata": {},
   "outputs": [
    {
     "name": "stdout",
     "output_type": "stream",
     "text": [
      "Depth-First Traversal:\n",
      "A B D E C F G "
     ]
    }
   ],
   "source": [
    "def dfs(graph, start, visited=None):\n",
    "    if visited is None:\n",
    "        visited = set()\n",
    "    visited.add(start)\n",
    "    print(start, end=' ')\n",
    "    for neighbor in graph[start]:\n",
    "        if neighbor not in visited:\n",
    "            dfs(graph, neighbor, visited)\n",
    "\n",
    "# Graph represented as an adjacency list\n",
    "graph = {\n",
    "    'A': ['B', 'C'],\n",
    "    'B': ['A', 'D', 'E'],\n",
    "    'C': ['A', 'F', 'G'],\n",
    "    'D': ['B'],\n",
    "    'E': ['B'],\n",
    "    'F': ['C'],\n",
    "    'G': ['C']\n",
    "}\n",
    "\n",
    "print(\"Depth-First Traversal:\")\n",
    "dfs(graph, 'A')"
   ]
  },
  {
   "cell_type": "markdown",
   "id": "8c15c148",
   "metadata": {},
   "source": [
    "# Breadth First Search"
   ]
  },
  {
   "cell_type": "code",
   "execution_count": 4,
   "id": "d9e11f03",
   "metadata": {},
   "outputs": [
    {
     "name": "stdout",
     "output_type": "stream",
     "text": [
      "Breadth-First Traversal:\n",
      "A B C D E F G "
     ]
    }
   ],
   "source": [
    "def bfs(graph, start):\n",
    "    visited = set()\n",
    "    queue = [start]\n",
    "\n",
    "    while queue:\n",
    "        node = queue.pop(0)\n",
    "        if node not in visited:\n",
    "            print(node, end=' ')\n",
    "            visited.add(node)\n",
    "            for neighbor in graph[node]:\n",
    "                if neighbor not in visited:\n",
    "                    queue.append(neighbor)\n",
    "\n",
    "# Graph represented as an adjacency list\n",
    "graph = {\n",
    "    'A': ['B', 'C'],\n",
    "    'B': ['A', 'D', 'E'],\n",
    "    'C': ['A', 'F', 'G'],\n",
    "    'D': ['B'],\n",
    "    'E': ['B'],\n",
    "    'F': ['C'],\n",
    "    'G': ['C']\n",
    "}\n",
    "\n",
    "print(\"Breadth-First Traversal:\")\n",
    "bfs(graph, 'A')\n"
   ]
  },
  {
   "cell_type": "markdown",
   "id": "de8a1244",
   "metadata": {},
   "source": [
    "# Bidrectional Search"
   ]
  },
  {
   "cell_type": "code",
   "execution_count": 1,
   "id": "4b152519",
   "metadata": {},
   "outputs": [
    {
     "name": "stdout",
     "output_type": "stream",
     "text": [
      "Bidirectional Search Path from A to G :\n",
      "['A', 'C', 'G']\n"
     ]
    }
   ],
   "source": [
    "\n",
    "def bidirectional_search(graph, start, goal):\n",
    "    # Initialize forward and backward queues and visited sets\n",
    "    forward_queue = [start]\n",
    "    backward_queue = [goal]\n",
    "    forward_visited = {start}\n",
    "    backward_visited = {goal}\n",
    "\n",
    "    # Keep track of predecessors for constructing the path\n",
    "    forward_predecessor = {start: None}\n",
    "    backward_predecessor = {goal: None}\n",
    "\n",
    "    # Perform bidirectional search\n",
    "    while forward_queue and backward_queue:\n",
    "        # Forward search\n",
    "        current_forward = forward_queue.pop(0)\n",
    "        for neighbor in graph[current_forward]:\n",
    "            if neighbor not in forward_visited:\n",
    "                forward_queue.append(neighbor)\n",
    "                forward_visited.add(neighbor)\n",
    "                forward_predecessor[neighbor] = current_forward\n",
    "            if neighbor in backward_visited:\n",
    "                return construct_path(forward_predecessor, backward_predecessor, neighbor)\n",
    "\n",
    "        # Backward search\n",
    "        current_backward = backward_queue.pop(0)\n",
    "        for neighbor in graph[current_backward]:\n",
    "            if neighbor not in backward_visited:\n",
    "                backward_queue.append(neighbor)\n",
    "                backward_visited.add(neighbor)\n",
    "                backward_predecessor[neighbor] = current_backward\n",
    "            if neighbor in forward_visited:\n",
    "                return construct_path(forward_predecessor, backward_predecessor, neighbor)\n",
    "\n",
    "    return None\n",
    "\n",
    "def construct_path(forward_predecessor, backward_predecessor, intersect_node):\n",
    "    # Construct the path from start to intersect_node\n",
    "    forward_path = []\n",
    "    node = intersect_node\n",
    "    while node is not None:\n",
    "        forward_path.append(node)\n",
    "        node = forward_predecessor[node]\n",
    "    forward_path.reverse()\n",
    "\n",
    "    # Construct the path from intersect_node to goal\n",
    "    backward_path = []\n",
    "    node = intersect_node\n",
    "    while node is not None:\n",
    "        backward_path.append(node)\n",
    "        node = backward_predecessor[node]\n",
    "\n",
    "    # Skip the intersect_node since it appears twice in the paths\n",
    "    backward_path.pop(0)\n",
    "\n",
    "    # Concatenate the two paths\n",
    "    return forward_path + backward_path\n",
    "\n",
    "# Graph represented as an adjacency list\n",
    "graph = {\n",
    "    'A': ['B', 'C'],\n",
    "    'B': ['A', 'D', 'E'],\n",
    "    'C': ['A', 'F', 'G'],\n",
    "    'D': ['B'],\n",
    "    'E': ['B'],\n",
    "    'F': ['C'],\n",
    "    'G': ['C']\n",
    "}\n",
    "\n",
    "start_node = 'A'\n",
    "goal_node = 'G'\n",
    "\n",
    "print(\"Bidirectional Search Path from\", start_node, \"to\", goal_node, \":\")\n",
    "path = bidirectional_search(graph, start_node, goal_node)\n",
    "if path is not None:\n",
    "    print(path)\n",
    "else:\n",
    "    print(\"No path found.\")\n"
   ]
  },
  {
   "cell_type": "code",
   "execution_count": null,
   "id": "607a64c9",
   "metadata": {},
   "outputs": [],
   "source": []
  }
 ],
 "metadata": {
  "kernelspec": {
   "display_name": "Python 3 (ipykernel)",
   "language": "python",
   "name": "python3"
  },
  "language_info": {
   "codemirror_mode": {
    "name": "ipython",
    "version": 3
   },
   "file_extension": ".py",
   "mimetype": "text/x-python",
   "name": "python",
   "nbconvert_exporter": "python",
   "pygments_lexer": "ipython3",
   "version": "3.9.7"
  }
 },
 "nbformat": 4,
 "nbformat_minor": 5
}
