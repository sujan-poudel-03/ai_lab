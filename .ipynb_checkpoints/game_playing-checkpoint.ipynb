{
 "cells": [
  {
   "cell_type": "markdown",
   "id": "e613b5a0",
   "metadata": {},
   "source": [
    "# Min - Max Algorithm"
   ]
  },
  {
   "cell_type": "code",
   "execution_count": 4,
   "id": "77ab4f61",
   "metadata": {},
   "outputs": [
    {
     "name": "stdout",
     "output_type": "stream",
     "text": [
      "Best score: 7\n"
     ]
    }
   ],
   "source": [
    "import math\n",
    "\n",
    "def minimax(node, depth, maximizing_player):\n",
    "    if depth == 0 or is_terminal_node(node):\n",
    "        return heuristic_value(node)\n",
    "\n",
    "    if maximizing_player:\n",
    "        best_value = float('-inf')\n",
    "        for child_node in get_child_nodes(node):\n",
    "            v = minimax(child_node, depth - 1, False)\n",
    "            best_value = max(best_value, v)\n",
    "        return best_value\n",
    "    else:\n",
    "        best_value = float('inf')\n",
    "        for child_node in get_child_nodes(node):\n",
    "            v = minimax(child_node, depth - 1, True)\n",
    "            best_value = min(best_value, v)\n",
    "        return best_value\n",
    "\n",
    "def is_terminal_node(node):\n",
    "    # Terminal node if depth is 0 or all numbers are chosen\n",
    "    return len(node) == 0\n",
    "\n",
    "def heuristic_value(node):\n",
    "    # Heuristic value is the sum of chosen numbers\n",
    "    return sum(node)\n",
    "\n",
    "def get_child_nodes(node):\n",
    "    # Generate child nodes by removing one number at a time\n",
    "    child_nodes = []\n",
    "    for i, num in enumerate(node):\n",
    "        child_nodes.append(node[:i] + node[i+1:])\n",
    "    return child_nodes\n",
    "\n",
    "# Example:\n",
    "numbers = [1, 2, 3, 4, 5]  # List of numbers to choose from\n",
    "depth = 3  # Depth of the search tree\n",
    "\n",
    "best_score = minimax(numbers, depth, True)\n",
    "print(\"Best score:\", best_score)\n"
   ]
  },
  {
   "cell_type": "markdown",
   "id": "6439e8e8",
   "metadata": {},
   "source": [
    "# Alpha-Beta Pruning"
   ]
  },
  {
   "cell_type": "code",
   "execution_count": 6,
   "id": "a964a623",
   "metadata": {},
   "outputs": [
    {
     "name": "stdout",
     "output_type": "stream",
     "text": [
      "Best score: 7\n"
     ]
    }
   ],
   "source": [
    "def minimax_alpha_beta(node, depth, alpha, beta, maximizing_player):\n",
    "    if depth == 0 or is_terminal_node(node):\n",
    "        return heuristic_value(node)\n",
    "\n",
    "    if maximizing_player:\n",
    "        max_value = float('-inf')\n",
    "        for child_node in get_child_nodes(node):\n",
    "            v = minimax_alpha_beta(child_node, depth - 1, alpha, beta, False)\n",
    "            max_value = max(max_value, v)\n",
    "            alpha = max(alpha, v)\n",
    "            if beta <= alpha:\n",
    "                break  # Beta cutoff\n",
    "        return max_value\n",
    "    else:\n",
    "        min_value = float('inf')\n",
    "        for child_node in get_child_nodes(node):\n",
    "            v = minimax_alpha_beta(child_node, depth - 1, alpha, beta, True)\n",
    "            min_value = min(min_value, v)\n",
    "            beta = min(beta, v)\n",
    "            if beta <= alpha:\n",
    "                break  # Alpha cutoff\n",
    "        return min_value\n",
    "\n",
    "# Example usage:\n",
    "numbers = [1, 2, 3, 4, 5]  # List of numbers to choose from\n",
    "depth = 3  # Depth of the search tree\n",
    "\n",
    "best_score = minimax_alpha_beta(numbers, depth, float('-inf'), float('inf'), True)\n",
    "print(\"Best score:\", best_score)\n"
   ]
  },
  {
   "cell_type": "code",
   "execution_count": null,
   "id": "18841409",
   "metadata": {},
   "outputs": [],
   "source": []
  }
 ],
 "metadata": {
  "kernelspec": {
   "display_name": "Python 3 (ipykernel)",
   "language": "python",
   "name": "python3"
  },
  "language_info": {
   "codemirror_mode": {
    "name": "ipython",
    "version": 3
   },
   "file_extension": ".py",
   "mimetype": "text/x-python",
   "name": "python",
   "nbconvert_exporter": "python",
   "pygments_lexer": "ipython3",
   "version": "3.9.7"
  }
 },
 "nbformat": 4,
 "nbformat_minor": 5
}
