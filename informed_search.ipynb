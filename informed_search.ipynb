{
 "cells": [
  {
   "cell_type": "markdown",
   "id": "9f0a5ce2",
   "metadata": {},
   "source": [
    "# Greedy First Search"
   ]
  },
  {
   "cell_type": "code",
   "execution_count": 1,
   "id": "40c63105",
   "metadata": {},
   "outputs": [
    {
     "name": "stdout",
     "output_type": "stream",
     "text": [
      "Visiting node: 1\n",
      "Visiting node: 3\n",
      "Visiting node: 5\n",
      "Goal found!\n"
     ]
    },
    {
     "data": {
      "text/plain": [
       "True"
      ]
     },
     "execution_count": 1,
     "metadata": {},
     "output_type": "execute_result"
    }
   ],
   "source": [
    "def greedy_first_search(graph, start, goal):\n",
    "    visited = set()  # Set to keep track of visited nodes\n",
    "    stack = [start]   # Stack for nodes to visit\n",
    "    \n",
    "    while stack:\n",
    "        current_node = stack.pop()  # Get the current node from the stack\n",
    "        \n",
    "        if current_node == goal:\n",
    "            print(\"Goal found!\")\n",
    "            return True\n",
    "        \n",
    "        if current_node not in visited:\n",
    "            visited.add(current_node)  # Mark the current node as visited\n",
    "            print(\"Visiting node:\", current_node)\n",
    "            \n",
    "            # Add neighboring nodes to the stack based on a heuristic function\n",
    "            neighbors = sorted(graph[current_node], key=lambda x: heuristic(x, goal), reverse=True)\n",
    "            stack.extend(neighbors)\n",
    "    \n",
    "    print(\"Goal not found!\")\n",
    "    return False\n",
    "\n",
    "# Heuristic function (distance from node to goal)\n",
    "def heuristic(node, goal):\n",
    "    # Define basic heuristic function\n",
    "    return abs(node - goal)\n",
    "\n",
    "# Graph representation with adjacency list\n",
    "graph = {\n",
    "    1: [2, 3],\n",
    "    2: [4],\n",
    "    3: [5],\n",
    "    4: [],\n",
    "    5: [6],\n",
    "    6: []\n",
    "}\n",
    "\n",
    "# Example usage:\n",
    "start_node = 1\n",
    "goal_node = 6\n",
    "greedy_first_search(graph, start_node, goal_node)\n"
   ]
  },
  {
   "cell_type": "code",
   "execution_count": null,
   "id": "79f4e2a1",
   "metadata": {},
   "outputs": [],
   "source": []
  }
 ],
 "metadata": {
  "kernelspec": {
   "display_name": "Python 3 (ipykernel)",
   "language": "python",
   "name": "python3"
  },
  "language_info": {
   "codemirror_mode": {
    "name": "ipython",
    "version": 3
   },
   "file_extension": ".py",
   "mimetype": "text/x-python",
   "name": "python",
   "nbconvert_exporter": "python",
   "pygments_lexer": "ipython3",
   "version": "3.9.7"
  }
 },
 "nbformat": 4,
 "nbformat_minor": 5
}
